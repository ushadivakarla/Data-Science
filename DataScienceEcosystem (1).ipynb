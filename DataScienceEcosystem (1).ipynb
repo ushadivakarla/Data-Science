{
 "cells": [
  {
   "cell_type": "code",
   "execution_count": 10,
   "id": "54a10aa0",
   "metadata": {},
   "outputs": [
    {
     "name": "stdout",
     "output_type": "stream",
     "text": [
      "Understanding Data science\n",
      "Various DS language details\n",
      "Various DS tools Details\n",
      "Hands-on using Jupyterlite\n"
     ]
    }
   ],
   "source": [
    "# Objectives\n",
    "objectives = ['Understanding Data science', 'Various DS language details', 'Various DS tools Details', 'Hands-on using Jupyterlite']\n",
    "\n",
    "# iterate through the list\n",
    "for objective in objectives:\n",
    "    print(objective)"
   ]
  },
  {
   "cell_type": "code",
   "execution_count": 11,
   "id": "1353be71",
   "metadata": {},
   "outputs": [
    {
     "data": {
      "text/plain": [
       "'\\nDAta Sscience Tools and Ecosystem\\n'"
      ]
     },
     "execution_count": 11,
     "metadata": {},
     "output_type": "execute_result"
    }
   ],
   "source": [
    "'''\n",
    "DAta Sscience Tools and Ecosystem\n",
    "'''"
   ]
  },
  {
   "cell_type": "code",
   "execution_count": 14,
   "id": "a1b4d3f7",
   "metadata": {},
   "outputs": [
    {
     "name": "stdout",
     "output_type": "stream",
     "text": [
      "0 Python\n",
      "1 R\n",
      "2 scala\n"
     ]
    }
   ],
   "source": [
    "\n",
    "'''\n",
    "Some of the popular Languages that Data Scientist use are\n",
    "'''\n",
    "blob = [\"Python\", \"R\", \"scala\"]\n",
    "for number, letter in enumerate(blob):\n",
    "    print(number, letter)"
   ]
  },
  {
   "cell_type": "code",
   "execution_count": 15,
   "id": "c2499613",
   "metadata": {},
   "outputs": [
    {
     "name": "stdout",
     "output_type": "stream",
     "text": [
      "0 Pandas\n",
      "1 Numpy\n",
      "2 Ski-learn\n"
     ]
    }
   ],
   "source": [
    "'''\n",
    "Some of the commonly used libraries by Data Scientist use are\n",
    "'''\n",
    "blob = [\"Pandas\", \"Numpy\", \"Ski-learn\"]\n",
    "for number, letter in enumerate(blob):\n",
    "    print(number, letter)\n"
   ]
  },
  {
   "cell_type": "code",
   "execution_count": 18,
   "id": "0145395f",
   "metadata": {},
   "outputs": [
    {
     "name": "stdout",
     "output_type": "stream",
     "text": [
      "+------------------------+\n",
      "| Data Scientist Tools   |\n",
      "+========================+\n",
      "| Apache Spark           |\n",
      "+------------------------+\n",
      "| D3.js                  |\n",
      "+------------------------+\n",
      "| IBM SPSS               |\n",
      "+------------------------+\n",
      "| Julia                  |\n",
      "+------------------------+\n"
     ]
    }
   ],
   "source": [
    "#import module\n",
    "from tabulate import tabulate\n",
    "    \n",
    "mydata= [ [\"Apache Spark\"], [\"D3.js\"], [\"IBM SPSS\"], [\"Julia\"] ]\n",
    "Head =['Data Scientist Tools']\n",
    "print(tabulate(mydata, headers=Head, tablefmt=\"grid\"))"
   ]
  },
  {
   "cell_type": "code",
   "execution_count": 20,
   "id": "e8237aa8",
   "metadata": {},
   "outputs": [
    {
     "name": "stdout",
     "output_type": "stream",
     "text": [
      "Sum 9\n",
      "substraction 5\n",
      "Multiplication 14\n",
      "Division 3.5\n"
     ]
    }
   ],
   "source": [
    "'''\n",
    "Below are a few examples of evaluating arithmetic expression in python\n",
    "'''\n",
    "a=7\n",
    "b=2\n",
    "\n",
    "#Addition\n",
    "print(\"Sum\",a+b)\n",
    "\n",
    "#Substraction\n",
    "print(\"substraction\", a-b)\n",
    "\n",
    "#Multiplication\n",
    "print(\"Multiplication\", a*b)\n",
    "\n",
    "#Division\n",
    "print(\"Division\", a/b)"
   ]
  },
  {
   "cell_type": "code",
   "execution_count": 21,
   "id": "4e4ee9f2",
   "metadata": {},
   "outputs": [
    {
     "name": "stdout",
     "output_type": "stream",
     "text": [
      "ans 17\n"
     ]
    }
   ],
   "source": [
    "#this is simple arithmetic experssion to multiply then add integers\n",
    "print(\"ans\", (3*4)+5)"
   ]
  },
  {
   "cell_type": "code",
   "execution_count": 22,
   "id": "8e5a4d8b",
   "metadata": {},
   "outputs": [
    {
     "name": "stdout",
     "output_type": "stream",
     "text": [
      "Enter time in minutes200\n",
      "Hours= 3\n",
      "Minutes= 20\n"
     ]
    }
   ],
   "source": [
    "#This will convert 200 minutes to hours by diving by 60\n",
    "min=int(input(\"Enter time in minutes\"))\n",
    "h=min//60\n",
    "m=min%60\n",
    "print(\"Hours=\",h)\n",
    "print(\"Minutes=\",m)"
   ]
  },
  {
   "cell_type": "code",
   "execution_count": null,
   "id": "ae67c7a4",
   "metadata": {},
   "outputs": [],
   "source": []
  }
 ],
 "metadata": {
  "kernelspec": {
   "display_name": "Python 3 (ipykernel)",
   "language": "python",
   "name": "python3"
  },
  "language_info": {
   "codemirror_mode": {
    "name": "ipython",
    "version": 3
   },
   "file_extension": ".py",
   "mimetype": "text/x-python",
   "name": "python",
   "nbconvert_exporter": "python",
   "pygments_lexer": "ipython3",
   "version": "3.9.7"
  }
 },
 "nbformat": 4,
 "nbformat_minor": 5
}
